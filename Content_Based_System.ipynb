{
 "cells": [
  {
   "cell_type": "code",
   "execution_count": 1,
   "metadata": {
    "id": "vOeixTV3oWHS"
   },
   "outputs": [],
   "source": [
    "import pandas as pd\n",
    "from sklearn.model_selection import train_test_split\n",
    "from sklearn.feature_extraction.text import TfidfVectorizer\n",
    "from sklearn.ensemble import RandomForestClassifier\n",
    "import numpy as np\n"
   ]
  },
  {
   "cell_type": "code",
   "execution_count": 2,
   "metadata": {
    "id": "8ZE9nYo0wrp8"
   },
   "outputs": [],
   "source": [
    "file_path = 'jobs.csv'\n",
    "jobs_data = pd.read_csv(file_path)"
   ]
  },
  {
   "cell_type": "code",
   "execution_count": 3,
   "metadata": {
    "id": "I-uqbOH-x2t-"
   },
   "outputs": [],
   "source": [
    "jobs_data['Skills'] = jobs_data['Skills'].str.lower()\n",
    "jobs_data.dropna(subset=['Skills', 'Title', 'Location'], inplace=True)\n"
   ]
  },
  {
   "cell_type": "code",
   "execution_count": 4,
   "metadata": {
    "id": "JFht4qSByNto"
   },
   "outputs": [],
   "source": [
    "tfidf = TfidfVectorizer(max_features=5000)\n",
    "X = tfidf.fit_transform(jobs_data['Skills'])"
   ]
  },
  {
   "cell_type": "code",
   "execution_count": 5,
   "metadata": {
    "colab": {
     "base_uri": "https://localhost:8080/",
     "height": 74
    },
    "id": "OIMsHN7EyNyr",
    "outputId": "47a31128-8f63-40f8-8ac3-e218f61d4729"
   },
   "outputs": [
    {
     "data": {
      "text/plain": [
       "RandomForestClassifier(random_state=42)"
      ]
     },
     "execution_count": 5,
     "metadata": {},
     "output_type": "execute_result"
    }
   ],
   "source": [
    "y_title = jobs_data['Title']\n",
    "X_train, X_test, y_train, y_test = train_test_split(X, y_title, test_size=0.2, random_state=42)\n",
    "model_title = RandomForestClassifier(n_estimators=100, random_state=42)\n",
    "model_title.fit(X_train, y_train)"
   ]
  },
  {
   "cell_type": "code",
   "execution_count": 6,
   "metadata": {
    "colab": {
     "base_uri": "https://localhost:8080/",
     "height": 74
    },
    "id": "wtTTe3289yBg",
    "outputId": "91ed6a90-2803-41df-ade1-9f6615113e5e"
   },
   "outputs": [
    {
     "data": {
      "text/plain": [
       "RandomForestClassifier(random_state=42)"
      ]
     },
     "execution_count": 6,
     "metadata": {},
     "output_type": "execute_result"
    }
   ],
   "source": [
    "y_location = jobs_data['Location']\n",
    "X_train, X_test, y_train, y_test = train_test_split(X, y_location, test_size=0.2, random_state=42)\n",
    "model_location = RandomForestClassifier(n_estimators=100, random_state=42)\n",
    "model_location.fit(X_train, y_train)"
   ]
  },
  {
   "cell_type": "code",
   "execution_count": 7,
   "metadata": {
    "id": "XIjIyV8lytpq"
   },
   "outputs": [],
   "source": [
    "def predict_job_title_and_location(Skills, top_n=3, relevance_threshold=0.1):\n",
    "    skills_transformed = tfidf.transform([Skills.lower()])\n",
    "\n",
    "\n",
    "    probs_title = model_title.predict_proba(skills_transformed)[0]\n",
    "    top_n_indices_title = np.argsort(probs_title)[-top_n:]\n",
    "    top_n_probs_title = probs_title[top_n_indices_title]\n",
    "    relevant_titles = [model_title.classes_[i] for i, prob in zip(top_n_indices_title, top_n_probs_title) if prob >= relevance_threshold]\n",
    "\n",
    "    predicted_title = np.random.choice(relevant_titles) if relevant_titles else 'No relevant title found'\n",
    "\n",
    "\n",
    "    probs_location = model_location.predict_proba(skills_transformed)[0]\n",
    "    top_n_indices_location = np.argsort(probs_location)[-top_n:]\n",
    "    predicted_location = np.random.choice([model_location.classes_[i] for i in top_n_indices_location])\n",
    "\n",
    "    return predicted_title, predicted_location"
   ]
  },
  {
   "cell_type": "code",
   "execution_count": 11,
   "metadata": {
    "colab": {
     "base_uri": "https://localhost:8080/"
    },
    "id": "4QBS1QLN6FbS",
    "outputId": "91304019-8c17-4ba5-ece9-6c884ccc9959"
   },
   "outputs": [
    {
     "name": "stdout",
     "output_type": "stream",
     "text": [
      "Predicted Job Title: Human Resources Manager\n",
      "Predicted Location:  Mohandessin\n"
     ]
    }
   ],
   "source": [
    "example_skills = \"HR\"\n",
    "predicted_title, predicted_location = predict_job_title_and_location(example_skills)\n",
    "print(\"Predicted Job Title:\", predicted_title)\n",
    "print(\"Predicted Location:\", predicted_location)\n"
   ]
  },
  {
   "cell_type": "code",
   "execution_count": null,
   "metadata": {},
   "outputs": [],
   "source": []
  }
 ],
 "metadata": {
  "colab": {
   "provenance": []
  },
  "kernelspec": {
   "display_name": "Python 3 (ipykernel)",
   "language": "python",
   "name": "python3"
  },
  "language_info": {
   "codemirror_mode": {
    "name": "ipython",
    "version": 3
   },
   "file_extension": ".py",
   "mimetype": "text/x-python",
   "name": "python",
   "nbconvert_exporter": "python",
   "pygments_lexer": "ipython3",
   "version": "3.9.12"
  }
 },
 "nbformat": 4,
 "nbformat_minor": 1
}
